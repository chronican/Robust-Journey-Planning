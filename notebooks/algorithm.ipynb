{
 "cells": [
  {
   "cell_type": "code",
   "execution_count": 8,
   "metadata": {},
   "outputs": [],
   "source": [
    "import os\n",
    "username = os.environ['JUPYTERHUB_USER']\n",
    "import copy"
   ]
  },
  {
   "cell_type": "code",
   "execution_count": 9,
   "metadata": {},
   "outputs": [
    {
     "name": "stdout",
     "output_type": "stream",
     "text": [
      "Requirement already satisfied: pyarrow in /opt/conda/lib/python3.7/site-packages (4.0.0)\n",
      "Requirement already satisfied: numpy>=1.16.6 in /opt/conda/lib/python3.7/site-packages (from pyarrow) (1.20.2)\n",
      "Requirement already satisfied: fastparquet in /opt/conda/lib/python3.7/site-packages (0.6.3)\n",
      "Requirement already satisfied: numpy>=1.11 in /opt/conda/lib/python3.7/site-packages (from fastparquet) (1.20.2)\n",
      "Requirement already satisfied: cramjam>=2.3.0 in /opt/conda/lib/python3.7/site-packages (from fastparquet) (2.3.1)\n",
      "Requirement already satisfied: pandas>=1.1.0 in /opt/conda/lib/python3.7/site-packages (from fastparquet) (1.2.4)\n",
      "Requirement already satisfied: fsspec in /opt/conda/lib/python3.7/site-packages (from fastparquet) (2021.5.0)\n",
      "Requirement already satisfied: thrift>=0.11.0 in /opt/conda/lib/python3.7/site-packages (from fastparquet) (0.13.0)\n",
      "Requirement already satisfied: python-dateutil>=2.7.3 in /opt/conda/lib/python3.7/site-packages (from pandas>=1.1.0->fastparquet) (2.8.1)\n",
      "Requirement already satisfied: pytz>=2017.3 in /opt/conda/lib/python3.7/site-packages (from pandas>=1.1.0->fastparquet) (2021.1)\n",
      "Requirement already satisfied: six>=1.5 in /opt/conda/lib/python3.7/site-packages (from python-dateutil>=2.7.3->pandas>=1.1.0->fastparquet) (1.14.0)\n"
     ]
    }
   ],
   "source": [
    "!pip install pyarrow\n",
    "!pip install fastparquet"
   ]
  },
  {
   "cell_type": "code",
   "execution_count": 10,
   "metadata": {},
   "outputs": [
    {
     "data": {
      "text/html": [
       "<div>\n",
       "<style scoped>\n",
       "    .dataframe tbody tr th:only-of-type {\n",
       "        vertical-align: middle;\n",
       "    }\n",
       "\n",
       "    .dataframe tbody tr th {\n",
       "        vertical-align: top;\n",
       "    }\n",
       "\n",
       "    .dataframe thead th {\n",
       "        text-align: right;\n",
       "    }\n",
       "</style>\n",
       "<table border=\"1\" class=\"dataframe\">\n",
       "  <thead>\n",
       "    <tr style=\"text-align: right;\">\n",
       "      <th></th>\n",
       "      <th>stop_id</th>\n",
       "      <th>trip_id</th>\n",
       "      <th>arrival_time</th>\n",
       "      <th>departure_time</th>\n",
       "      <th>stop_sequence</th>\n",
       "      <th>service_id</th>\n",
       "      <th>route_id</th>\n",
       "      <th>route_desc</th>\n",
       "      <th>route_type</th>\n",
       "      <th>direction_id</th>\n",
       "      <th>stop_name</th>\n",
       "      <th>stop_lat</th>\n",
       "      <th>stop_lon</th>\n",
       "      <th>location_type</th>\n",
       "      <th>parent_station</th>\n",
       "    </tr>\n",
       "  </thead>\n",
       "  <tbody>\n",
       "    <tr>\n",
       "      <th>0</th>\n",
       "      <td>8503064</td>\n",
       "      <td>1.TA.26-18-j19-1.1.H</td>\n",
       "      <td>34860</td>\n",
       "      <td>34860</td>\n",
       "      <td>1</td>\n",
       "      <td>TA+b0b46</td>\n",
       "      <td>26-18-j19-1</td>\n",
       "      <td>S-Bahn</td>\n",
       "      <td>400</td>\n",
       "      <td>0</td>\n",
       "      <td>Scheuren</td>\n",
       "      <td>47.322597</td>\n",
       "      <td>8.659544</td>\n",
       "      <td>NaN</td>\n",
       "      <td></td>\n",
       "    </tr>\n",
       "    <tr>\n",
       "      <th>1</th>\n",
       "      <td>8503065:0:1</td>\n",
       "      <td>1.TA.26-18-j19-1.1.H</td>\n",
       "      <td>35100</td>\n",
       "      <td>35100</td>\n",
       "      <td>2</td>\n",
       "      <td>TA+b0b46</td>\n",
       "      <td>26-18-j19-1</td>\n",
       "      <td>S-Bahn</td>\n",
       "      <td>400</td>\n",
       "      <td>0</td>\n",
       "      <td>Forch</td>\n",
       "      <td>47.325398</td>\n",
       "      <td>8.647964</td>\n",
       "      <td>NaN</td>\n",
       "      <td>8503065P</td>\n",
       "    </tr>\n",
       "    <tr>\n",
       "      <th>2</th>\n",
       "      <td>8503074</td>\n",
       "      <td>1.TA.26-18-j19-1.1.H</td>\n",
       "      <td>35160</td>\n",
       "      <td>35160</td>\n",
       "      <td>3</td>\n",
       "      <td>TA+b0b46</td>\n",
       "      <td>26-18-j19-1</td>\n",
       "      <td>S-Bahn</td>\n",
       "      <td>400</td>\n",
       "      <td>0</td>\n",
       "      <td>Neue Forch</td>\n",
       "      <td>47.325806</td>\n",
       "      <td>8.637840</td>\n",
       "      <td>NaN</td>\n",
       "      <td></td>\n",
       "    </tr>\n",
       "    <tr>\n",
       "      <th>3</th>\n",
       "      <td>8503068</td>\n",
       "      <td>1.TA.26-18-j19-1.1.H</td>\n",
       "      <td>35220</td>\n",
       "      <td>35220</td>\n",
       "      <td>4</td>\n",
       "      <td>TA+b0b46</td>\n",
       "      <td>26-18-j19-1</td>\n",
       "      <td>S-Bahn</td>\n",
       "      <td>400</td>\n",
       "      <td>0</td>\n",
       "      <td>Maiacher</td>\n",
       "      <td>47.328169</td>\n",
       "      <td>8.631067</td>\n",
       "      <td>NaN</td>\n",
       "      <td></td>\n",
       "    </tr>\n",
       "    <tr>\n",
       "      <th>4</th>\n",
       "      <td>8503066</td>\n",
       "      <td>1.TA.26-18-j19-1.1.H</td>\n",
       "      <td>35280</td>\n",
       "      <td>35280</td>\n",
       "      <td>5</td>\n",
       "      <td>TA+b0b46</td>\n",
       "      <td>26-18-j19-1</td>\n",
       "      <td>S-Bahn</td>\n",
       "      <td>400</td>\n",
       "      <td>0</td>\n",
       "      <td>Zumikon</td>\n",
       "      <td>47.331688</td>\n",
       "      <td>8.623809</td>\n",
       "      <td>NaN</td>\n",
       "      <td></td>\n",
       "    </tr>\n",
       "  </tbody>\n",
       "</table>\n",
       "</div>"
      ],
      "text/plain": [
       "       stop_id               trip_id  arrival_time  departure_time  \\\n",
       "0      8503064  1.TA.26-18-j19-1.1.H         34860           34860   \n",
       "1  8503065:0:1  1.TA.26-18-j19-1.1.H         35100           35100   \n",
       "2      8503074  1.TA.26-18-j19-1.1.H         35160           35160   \n",
       "3      8503068  1.TA.26-18-j19-1.1.H         35220           35220   \n",
       "4      8503066  1.TA.26-18-j19-1.1.H         35280           35280   \n",
       "\n",
       "   stop_sequence service_id     route_id route_desc route_type direction_id  \\\n",
       "0              1   TA+b0b46  26-18-j19-1     S-Bahn        400            0   \n",
       "1              2   TA+b0b46  26-18-j19-1     S-Bahn        400            0   \n",
       "2              3   TA+b0b46  26-18-j19-1     S-Bahn        400            0   \n",
       "3              4   TA+b0b46  26-18-j19-1     S-Bahn        400            0   \n",
       "4              5   TA+b0b46  26-18-j19-1     S-Bahn        400            0   \n",
       "\n",
       "    stop_name   stop_lat  stop_lon  location_type parent_station  \n",
       "0    Scheuren  47.322597  8.659544            NaN                 \n",
       "1       Forch  47.325398  8.647964            NaN       8503065P  \n",
       "2  Neue Forch  47.325806  8.637840            NaN                 \n",
       "3    Maiacher  47.328169  8.631067            NaN                 \n",
       "4     Zumikon  47.331688  8.623809            NaN                 "
      ]
     },
     "execution_count": 10,
     "metadata": {},
     "output_type": "execute_result"
    }
   ],
   "source": [
    "from hdfs3 import HDFileSystem\n",
    "hdfs = HDFileSystem(host='hdfs://iccluster040.iccluster.epfl.ch', port=8020, user='ebouille') # impersonate ebouille to read the file\n",
    "import pandas as pd\n",
    "files = hdfs.glob('/user/{0}/file/timetable/*.parquet'.format(username))\n",
    "timetable = pd.DataFrame()\n",
    "for file in files:\n",
    "    with hdfs.open(file) as f:\n",
    "        timetable = timetable.append(pd.read_parquet(f))\n",
    "        \n",
    "timetable.head(5)"
   ]
  },
  {
   "cell_type": "code",
   "execution_count": 11,
   "metadata": {},
   "outputs": [],
   "source": [
    "files = hdfs.glob('/user/{0}/file/stops_walk/*.parquet'.format(username))\n",
    "stops_walk = pd.DataFrame()\n",
    "for file in files:\n",
    "    with hdfs.open(file) as f:\n",
    "        stops_walk = stops_walk.append(pd.read_parquet(f))"
   ]
  },
  {
   "cell_type": "code",
   "execution_count": 295,
   "metadata": {},
   "outputs": [
    {
     "data": {
      "text/html": [
       "<div>\n",
       "<style scoped>\n",
       "    .dataframe tbody tr th:only-of-type {\n",
       "        vertical-align: middle;\n",
       "    }\n",
       "\n",
       "    .dataframe tbody tr th {\n",
       "        vertical-align: top;\n",
       "    }\n",
       "\n",
       "    .dataframe thead th {\n",
       "        text-align: right;\n",
       "    }\n",
       "</style>\n",
       "<table border=\"1\" class=\"dataframe\">\n",
       "  <thead>\n",
       "    <tr style=\"text-align: right;\">\n",
       "      <th></th>\n",
       "      <th>stop_id2</th>\n",
       "      <th>stop_name2</th>\n",
       "      <th>stop_lat2</th>\n",
       "      <th>stop_lon2</th>\n",
       "      <th>stop_id</th>\n",
       "      <th>stop_name</th>\n",
       "      <th>stop_lat</th>\n",
       "      <th>stop_lon</th>\n",
       "      <th>walk_time</th>\n",
       "    </tr>\n",
       "  </thead>\n",
       "  <tbody>\n",
       "    <tr>\n",
       "      <th>0</th>\n",
       "      <td>8573711</td>\n",
       "      <td>Zürich, Sädlenweg</td>\n",
       "      <td>47.367755</td>\n",
       "      <td>8.487480</td>\n",
       "      <td>8591214</td>\n",
       "      <td>Zürich, In der Ey</td>\n",
       "      <td>47.369240</td>\n",
       "      <td>8.491631</td>\n",
       "      <td>424</td>\n",
       "    </tr>\n",
       "    <tr>\n",
       "      <th>1</th>\n",
       "      <td>8573711</td>\n",
       "      <td>Zürich, Sädlenweg</td>\n",
       "      <td>47.367755</td>\n",
       "      <td>8.487480</td>\n",
       "      <td>8591163</td>\n",
       "      <td>Zürich, Goldackerweg</td>\n",
       "      <td>47.371892</td>\n",
       "      <td>8.487930</td>\n",
       "      <td>553</td>\n",
       "    </tr>\n",
       "    <tr>\n",
       "      <th>2</th>\n",
       "      <td>8590610</td>\n",
       "      <td>Fällanden, Schützenhaus</td>\n",
       "      <td>47.368625</td>\n",
       "      <td>8.632478</td>\n",
       "      <td>8590612</td>\n",
       "      <td>Fällanden, Zil</td>\n",
       "      <td>47.372245</td>\n",
       "      <td>8.636214</td>\n",
       "      <td>589</td>\n",
       "    </tr>\n",
       "    <tr>\n",
       "      <th>3</th>\n",
       "      <td>8590610</td>\n",
       "      <td>Fällanden, Schützenhaus</td>\n",
       "      <td>47.368625</td>\n",
       "      <td>8.632478</td>\n",
       "      <td>8590605</td>\n",
       "      <td>Fällanden, Eggler</td>\n",
       "      <td>47.371588</td>\n",
       "      <td>8.634714</td>\n",
       "      <td>444</td>\n",
       "    </tr>\n",
       "    <tr>\n",
       "      <th>4</th>\n",
       "      <td>8590610</td>\n",
       "      <td>Fällanden, Schützenhaus</td>\n",
       "      <td>47.368625</td>\n",
       "      <td>8.632478</td>\n",
       "      <td>8590752</td>\n",
       "      <td>Pfaffhausen, Pfaffenstein</td>\n",
       "      <td>47.368558</td>\n",
       "      <td>8.628561</td>\n",
       "      <td>354</td>\n",
       "    </tr>\n",
       "  </tbody>\n",
       "</table>\n",
       "</div>"
      ],
      "text/plain": [
       "  stop_id2               stop_name2  stop_lat2  stop_lon2  stop_id  \\\n",
       "0  8573711        Zürich, Sädlenweg  47.367755   8.487480  8591214   \n",
       "1  8573711        Zürich, Sädlenweg  47.367755   8.487480  8591163   \n",
       "2  8590610  Fällanden, Schützenhaus  47.368625   8.632478  8590612   \n",
       "3  8590610  Fällanden, Schützenhaus  47.368625   8.632478  8590605   \n",
       "4  8590610  Fällanden, Schützenhaus  47.368625   8.632478  8590752   \n",
       "\n",
       "                   stop_name   stop_lat  stop_lon  walk_time  \n",
       "0          Zürich, In der Ey  47.369240  8.491631        424  \n",
       "1       Zürich, Goldackerweg  47.371892  8.487930        553  \n",
       "2             Fällanden, Zil  47.372245  8.636214        589  \n",
       "3          Fällanden, Eggler  47.371588  8.634714        444  \n",
       "4  Pfaffhausen, Pfaffenstein  47.368558  8.628561        354  "
      ]
     },
     "execution_count": 295,
     "metadata": {},
     "output_type": "execute_result"
    }
   ],
   "source": [
    "stops_walk.head(5)"
   ]
  },
  {
   "cell_type": "code",
   "execution_count": 374,
   "metadata": {},
   "outputs": [],
   "source": [
    "stops_ids = timetable['stop_id'].unique()"
   ]
  },
  {
   "cell_type": "code",
   "execution_count": 440,
   "metadata": {},
   "outputs": [],
   "source": [
    "stops_walk = stops_walk[\n",
    "    (stops_walk['stop_id'].isin(stops_ids))&\n",
    "    (stops_walk['stop_id2'].isin(stops_ids))                       \n",
    "                       ]"
   ]
  },
  {
   "cell_type": "code",
   "execution_count": 710,
   "metadata": {},
   "outputs": [
    {
     "ename": "AttributeError",
     "evalue": "'list' object has no attribute 'tolist'",
     "output_type": "error",
     "traceback": [
      "\u001b[0;31m---------------------------------------------------------------------------\u001b[0m",
      "\u001b[0;31mAttributeError\u001b[0m                            Traceback (most recent call last)",
      "\u001b[0;32m<ipython-input-710-8deb9699530f>\u001b[0m in \u001b[0;36m<module>\u001b[0;34m\u001b[0m\n\u001b[0;32m----> 1\u001b[0;31m \u001b[0mstops_ids\u001b[0m \u001b[0;34m=\u001b[0m \u001b[0mstops_ids\u001b[0m\u001b[0;34m.\u001b[0m\u001b[0mtolist\u001b[0m\u001b[0;34m(\u001b[0m\u001b[0;34m)\u001b[0m\u001b[0;34m\u001b[0m\u001b[0;34m\u001b[0m\u001b[0m\n\u001b[0m",
      "\u001b[0;31mAttributeError\u001b[0m: 'list' object has no attribute 'tolist'"
     ]
    }
   ],
   "source": [
    "stops_ids = stops_ids.tolist()"
   ]
  },
  {
   "cell_type": "code",
   "execution_count": 711,
   "metadata": {},
   "outputs": [],
   "source": [
    "source = stops_ids[120]\n",
    "destination = stops_ids[800]\n",
    "t = 35800\n",
    "K = 5\n",
    "t_limit = 35800+7200\n",
    "\n",
    "MAX_TIME = t_limit+1000\n",
    "\n",
    "timetable_limit = timetable[\n",
    "    (timetable['arrival_time'] >= t)&\n",
    "    (timetable['departure_time'] <= t_limit)   \n",
    "]\n",
    "\n",
    "#optim_arrs = []\n",
    "optim_star = {}\n"
   ]
  },
  {
   "cell_type": "code",
   "execution_count": null,
   "metadata": {},
   "outputs": [],
   "source": []
  },
  {
   "cell_type": "code",
   "execution_count": 712,
   "metadata": {},
   "outputs": [],
   "source": [
    "\n",
    "df_init = [(s, MAX_TIME) for s in stops_ids if s is not source]#[ (s, MAX_TIME) for s in stops_ids if s is not source]\n",
    "df_init.append((source, t))"
   ]
  },
  {
   "cell_type": "code",
   "execution_count": 713,
   "metadata": {},
   "outputs": [],
   "source": [
    "for s, time in df_init:\n",
    "    optim_star[s] = time"
   ]
  },
  {
   "cell_type": "code",
   "execution_count": 714,
   "metadata": {},
   "outputs": [],
   "source": [
    "optim_arrs = pd.DataFrame(\n",
    "   df_init ,\n",
    "    columns = [\"stop_id\", \"previous_arrival_time\"]  # add your column names here\n",
    ")\n",
    "\n",
    "optim_arrs = optim_arrs.set_index('stop_id')"
   ]
  },
  {
   "cell_type": "code",
   "execution_count": 715,
   "metadata": {},
   "outputs": [],
   "source": [
    "mark = [source]\n",
    "mark_last = []\n",
    "route_considered = []\n",
    "trips_considered = []\n",
    "optim_arrs_list = [optim_arrs]\n",
    "Journey_list = []\n",
    "Journey_star = {}"
   ]
  },
  {
   "cell_type": "code",
   "execution_count": null,
   "metadata": {},
   "outputs": [],
   "source": [
    "for k in range(1,K+1):\n",
    "#for k in range(3,4):    \n",
    "    print(len(mark))\n",
    "    \n",
    "    \n",
    "    # for each marked stop p, find all routes r that serve p\n",
    "    \n",
    "    optim_arr_lastround = optim_arrs_list[k-1]\n",
    "    \n",
    "    optim_arr_curr = copy.deepcopy(optim_arr_lastround)\n",
    "    \n",
    "    Journey ={}\n",
    "    \n",
    "    print(mark)\n",
    "    \n",
    "    trips_mark = timetable_limit[timetable_limit['stop_id'].isin(mark)]\n",
    "    \n",
    "    \n",
    "    trips_mark = trips_mark.merge(optim_arr_lastround,left_on='stop_id', right_on='stop_id')\n",
    "    \n",
    "    \n",
    "    trips_mark = trips_mark[trips_mark['departure_time'] >= trips_mark['previous_arrival_time'] ]\n",
    "    \n",
    "    routes_for_mark = trips_mark[['route_id','direction_id','stop_id','stop_sequence']].drop_duplicates()\n",
    "    \n",
    "    routes_for_mark = routes_for_mark[~ routes_for_mark['route_id'].isin(route_considered)]\n",
    "    \n",
    "    trips_mark_total = timetable_limit[timetable_limit['trip_id'].isin(trips_mark['trip_id'])]\n",
    "    \n",
    "    trips_mark_total = trips_mark_total[~ trips_mark_total['trip_id'].isin(trips_considered)]\n",
    "    \n",
    "    \n",
    "    # find the earliest trip w.r.t to the \n",
    "    earliest_trips = trips_mark_total.loc[trips_mark_total.groupby(['route_id','direction_id','stop_id'])['arrival_time'].idxmin()]\n",
    "    \n",
    "    # find the walk path\n",
    "    walk_path = stops_walk[\n",
    "        (stops_walk['stop_id' ].isin(mark))&\n",
    "        (~ stops_walk['stop_id2' ].isin(mark_last))\n",
    "    ]\n",
    "    \n",
    "    earliest_trips = earliest_trips.reset_index()\n",
    "    \n",
    "    mark_last = mark\n",
    "    mark = []\n",
    "    \n",
    "    route_considered = []\n",
    "    \n",
    "    for index, row in routes_for_mark.iterrows():\n",
    "        route_id = row['route_id']\n",
    "        direction_id = row['direction_id']\n",
    "        stop_id = row['stop_id']\n",
    "        \n",
    "        stop_seq = row['stop_sequence']\n",
    "        \n",
    "        route_considered.append(route_id)\n",
    "        \n",
    "        earliest_trips_given_route = earliest_trips[\n",
    "            (earliest_trips['route_id'] == route_id) &\n",
    "            (earliest_trips['direction_id'] == direction_id) &\n",
    "            (earliest_trips['stop_sequence'] > stop_seq)\n",
    "        ]\n",
    "        \n",
    "        for index2, row2 in earliest_trips_given_route.iterrows():\n",
    "            stop_id_next = row2['stop_id']\n",
    "            trip = row2['trip_id']\n",
    "            trips_considered.append(trip)\n",
    "            \n",
    "            mark.append(stop_id_next)\n",
    "            \n",
    "            if row2['arrival_time'] < min(optim_arr_curr.at[stop_id_next, 'previous_arrival_time'], optim_star[destination]):\n",
    "                optim_arr_curr.at[stop_id_next, 'previous_arrival_time'] = row2['arrival_time']\n",
    "                optim_star[stop_id_next] =  row2['arrival_time']\n",
    "            \n",
    "                journey = {\n",
    "                    'stop_id':stop_id_next,\n",
    "                    'trip_id':row2['trip_id'],\n",
    "                    'arrival_time':row2['arrival_time'],\n",
    "                    'parent_stop_id': stop_id\n",
    "                }\n",
    "            \n",
    "                Journey[stop_id_next] = journey\n",
    "                if stop_id_next not in Journey_star:\n",
    "                    Journey_star[stop_id_next] = journey\n",
    "            \n",
    "                elif row2['arrival_time'] < Journey_star[stop_id_next]['arrival_time']:\n",
    "                    Journey_star[stop_id_next] = journey\n",
    "            \n",
    "    for index3, row3 in  walk_path.iterrows():\n",
    "        from_stop_id = row3['stop_id']\n",
    "        to_stop_id = row3['stop_id2']\n",
    "        walk_time = row3['walk_time']\n",
    "        \n",
    "        arr_time = optim_arr_curr.at[from_stop_id, 'previous_arrival_time'] + walk_time\n",
    "        if optim_arr_curr.at[to_stop_id, 'previous_arrival_time'] > arr_time:\n",
    "            optim_arr_curr.at[to_stop_id, 'previous_arrival_time'] = arr_time\n",
    "            journey = {\n",
    "                'stop_id':to_stop_id,\n",
    "                'trip_id':'walk',\n",
    "                'arrival_time':arr_time,\n",
    "                'parent_stop_id': from_stop_id\n",
    "            }\n",
    "            Journey[to_stop_id] = journey\n",
    "            if stop_id_next not in Journey_star:\n",
    "                Journey_star[stop_id_next] = journey\n",
    "            \n",
    "            elif arr_time < Journey_star[stop_id_next]['arrival_time']:\n",
    "                Journey_star[stop_id_next] = journey\n",
    "            \n",
    "    mark = list(set(mark))\n",
    "            \n",
    "    Journey_list.append(Journey)\n",
    "        \n",
    "    optim_arrs_list.append(optim_arr_curr)\n",
    "    \n",
    "    #earliest_trips = earliest_trips[]"
   ]
  },
  {
   "cell_type": "code",
   "execution_count": 727,
   "metadata": {},
   "outputs": [
    {
     "data": {
      "text/plain": [
       "{'stop_id': '8573205:0:F',\n",
       " 'trip_id': '118.TA.26-765-j19-1.1.R',\n",
       " 'arrival_time': 41340,\n",
       " 'parent_stop_id': '8588553'}"
      ]
     },
     "execution_count": 727,
     "metadata": {},
     "output_type": "execute_result"
    }
   ],
   "source": [
    "\n",
    "Journey_star[destination]"
   ]
  },
  {
   "cell_type": "code",
   "execution_count": 731,
   "metadata": {},
   "outputs": [
    {
     "data": {
      "text/plain": [
       "36252"
      ]
     },
     "execution_count": 731,
     "metadata": {},
     "output_type": "execute_result"
    }
   ],
   "source": [
    "optim_arrs_list[5].at[destination,'previous_arrival_time']"
   ]
  },
  {
   "cell_type": "code",
   "execution_count": null,
   "metadata": {},
   "outputs": [],
   "source": []
  },
  {
   "cell_type": "code",
   "execution_count": 707,
   "metadata": {},
   "outputs": [
    {
     "data": {
      "text/plain": [
       "{'stop_id': '8573205',\n",
       " 'trip_id': '543.TA.26-10-j19-1.6.R',\n",
       " 'arrival_time': 40620,\n",
       " 'parent_stop_id': '8588078'}"
      ]
     },
     "execution_count": 707,
     "metadata": {},
     "output_type": "execute_result"
    }
   ],
   "source": [
    "Journey_list[2]['8573205']"
   ]
  },
  {
   "cell_type": "code",
   "execution_count": 708,
   "metadata": {},
   "outputs": [
    {
     "data": {
      "text/plain": [
       "40620"
      ]
     },
     "execution_count": 708,
     "metadata": {},
     "output_type": "execute_result"
    }
   ],
   "source": [
    "optim_arrs_list[3].at['8573205','previous_arrival_time']"
   ]
  },
  {
   "cell_type": "code",
   "execution_count": 709,
   "metadata": {},
   "outputs": [
    {
     "data": {
      "text/plain": [
       "{'stop_id': '8587348',\n",
       " 'trip_id': '602.TA.26-31-j19-1.14.R',\n",
       " 'arrival_time': 38460,\n",
       " 'parent_stop_id': '8591261'}"
      ]
     },
     "execution_count": 709,
     "metadata": {},
     "output_type": "execute_result"
    }
   ],
   "source": [
    "Journey_list[1]['8587348']"
   ]
  },
  {
   "cell_type": "code",
   "execution_count": 699,
   "metadata": {},
   "outputs": [
    {
     "data": {
      "text/plain": [
       "{'stop_id': '8591233',\n",
       " 'trip_id': '258.TA.26-703-j19-1.2.R',\n",
       " 'arrival_time': 37680,\n",
       " 'parent_stop_id': '8590504'}"
      ]
     },
     "execution_count": 699,
     "metadata": {},
     "output_type": "execute_result"
    }
   ],
   "source": [
    "Journey_list[0]['8591233']"
   ]
  },
  {
   "cell_type": "code",
   "execution_count": 1039,
   "metadata": {},
   "outputs": [],
   "source": [
    "source = stop_ids[100]\n",
    "K = 5\n",
    "Tau = []\n",
    "Tau_0 = {}\n",
    "Tau_star = {}\n",
    "for s in stops_ids:\n",
    "    Tau_0[s] = MAX_TIME\n",
    "    Tau_star[s] = MAX_TIME\n",
    "Tau_0[source] = t\n",
    "Tau.append(Tau_0)\n",
    "\n",
    "Parent = []\n",
    "\n",
    "parent_0 = {}\n",
    "\n",
    "Parent.append(parent_0)\n",
    "\n",
    "mark = [source]"
   ]
  },
  {
   "cell_type": "code",
   "execution_count": 1040,
   "metadata": {},
   "outputs": [
    {
     "name": "stdout",
     "output_type": "stream",
     "text": [
      "1\n",
      "25\n"
     ]
    },
    {
     "ename": "KeyboardInterrupt",
     "evalue": "",
     "output_type": "error",
     "traceback": [
      "\u001b[0;31m---------------------------------------------------------------------------\u001b[0m",
      "\u001b[0;31mKeyboardInterrupt\u001b[0m                         Traceback (most recent call last)",
      "\u001b[0;32m<ipython-input-1040-c9ee7912a96d>\u001b[0m in \u001b[0;36m<module>\u001b[0;34m\u001b[0m\n\u001b[1;32m     10\u001b[0m         \u001b[0;32mfor\u001b[0m \u001b[0;34m(\u001b[0m\u001b[0mr\u001b[0m\u001b[0;34m,\u001b[0m\u001b[0md\u001b[0m\u001b[0;34m)\u001b[0m \u001b[0;32min\u001b[0m \u001b[0mroutes\u001b[0m\u001b[0;34m:\u001b[0m\u001b[0;34m\u001b[0m\u001b[0;34m\u001b[0m\u001b[0m\n\u001b[1;32m     11\u001b[0m             \u001b[0;32mif\u001b[0m \u001b[0;34m(\u001b[0m\u001b[0mr\u001b[0m\u001b[0;34m,\u001b[0m\u001b[0md\u001b[0m\u001b[0;34m)\u001b[0m \u001b[0;32min\u001b[0m \u001b[0mQ\u001b[0m\u001b[0;34m:\u001b[0m\u001b[0;34m\u001b[0m\u001b[0;34m\u001b[0m\u001b[0m\n\u001b[0;32m---> 12\u001b[0;31m                 \u001b[0;32mif\u001b[0m \u001b[0misBefore\u001b[0m\u001b[0;34m(\u001b[0m\u001b[0mp\u001b[0m\u001b[0;34m,\u001b[0m\u001b[0mQ\u001b[0m\u001b[0;34m[\u001b[0m\u001b[0;34m(\u001b[0m\u001b[0mr\u001b[0m\u001b[0;34m,\u001b[0m\u001b[0md\u001b[0m\u001b[0;34m)\u001b[0m\u001b[0;34m]\u001b[0m\u001b[0;34m,\u001b[0m\u001b[0mr\u001b[0m\u001b[0;34m,\u001b[0m\u001b[0md\u001b[0m\u001b[0;34m)\u001b[0m\u001b[0;34m:\u001b[0m\u001b[0;34m\u001b[0m\u001b[0;34m\u001b[0m\u001b[0m\n\u001b[0m\u001b[1;32m     13\u001b[0m                     \u001b[0mQ\u001b[0m\u001b[0;34m[\u001b[0m\u001b[0;34m(\u001b[0m\u001b[0mr\u001b[0m\u001b[0;34m,\u001b[0m\u001b[0md\u001b[0m\u001b[0;34m)\u001b[0m\u001b[0;34m]\u001b[0m \u001b[0;34m=\u001b[0m \u001b[0mp\u001b[0m\u001b[0;34m\u001b[0m\u001b[0;34m\u001b[0m\u001b[0m\n\u001b[1;32m     14\u001b[0m \u001b[0;34m\u001b[0m\u001b[0m\n",
      "\u001b[0;32m<ipython-input-1031-9984d5c6dae2>\u001b[0m in \u001b[0;36misBefore\u001b[0;34m(stop_id1, stop_id2, route_id, direction_id)\u001b[0m\n\u001b[1;32m      3\u001b[0m     trips = timetable_limit[(timetable_limit['route_id'] == route_id)&\n\u001b[1;32m      4\u001b[0m                               \u001b[0;34m(\u001b[0m\u001b[0mtimetable_limit\u001b[0m\u001b[0;34m[\u001b[0m\u001b[0;34m'direction_id'\u001b[0m\u001b[0;34m]\u001b[0m \u001b[0;34m==\u001b[0m \u001b[0mdirection_id\u001b[0m\u001b[0;34m)\u001b[0m\u001b[0;34m&\u001b[0m\u001b[0;34m\u001b[0m\u001b[0;34m\u001b[0m\u001b[0m\n\u001b[0;32m----> 5\u001b[0;31m                             ((timetable_limit['stop_id'] == stop_id1)|\n\u001b[0m\u001b[1;32m      6\u001b[0m                             (timetable_limit['stop_id'] == stop_id2))]\n\u001b[1;32m      7\u001b[0m     \u001b[0;32mif\u001b[0m \u001b[0;32mnot\u001b[0m \u001b[0mtrips\u001b[0m\u001b[0;34m.\u001b[0m\u001b[0mempty\u001b[0m\u001b[0;34m:\u001b[0m\u001b[0;34m\u001b[0m\u001b[0;34m\u001b[0m\u001b[0m\n",
      "\u001b[0;32m/opt/conda/lib/python3.7/site-packages/pandas/core/ops/common.py\u001b[0m in \u001b[0;36mnew_method\u001b[0;34m(self, other)\u001b[0m\n\u001b[1;32m     63\u001b[0m         \u001b[0mother\u001b[0m \u001b[0;34m=\u001b[0m \u001b[0mitem_from_zerodim\u001b[0m\u001b[0;34m(\u001b[0m\u001b[0mother\u001b[0m\u001b[0;34m)\u001b[0m\u001b[0;34m\u001b[0m\u001b[0;34m\u001b[0m\u001b[0m\n\u001b[1;32m     64\u001b[0m \u001b[0;34m\u001b[0m\u001b[0m\n\u001b[0;32m---> 65\u001b[0;31m         \u001b[0;32mreturn\u001b[0m \u001b[0mmethod\u001b[0m\u001b[0;34m(\u001b[0m\u001b[0mself\u001b[0m\u001b[0;34m,\u001b[0m \u001b[0mother\u001b[0m\u001b[0;34m)\u001b[0m\u001b[0;34m\u001b[0m\u001b[0;34m\u001b[0m\u001b[0m\n\u001b[0m\u001b[1;32m     66\u001b[0m \u001b[0;34m\u001b[0m\u001b[0m\n\u001b[1;32m     67\u001b[0m     \u001b[0;32mreturn\u001b[0m \u001b[0mnew_method\u001b[0m\u001b[0;34m\u001b[0m\u001b[0;34m\u001b[0m\u001b[0m\n",
      "\u001b[0;32m/opt/conda/lib/python3.7/site-packages/pandas/core/arraylike.py\u001b[0m in \u001b[0;36m__eq__\u001b[0;34m(self, other)\u001b[0m\n\u001b[1;32m     27\u001b[0m     \u001b[0;34m@\u001b[0m\u001b[0munpack_zerodim_and_defer\u001b[0m\u001b[0;34m(\u001b[0m\u001b[0;34m\"__eq__\"\u001b[0m\u001b[0;34m)\u001b[0m\u001b[0;34m\u001b[0m\u001b[0;34m\u001b[0m\u001b[0m\n\u001b[1;32m     28\u001b[0m     \u001b[0;32mdef\u001b[0m \u001b[0m__eq__\u001b[0m\u001b[0;34m(\u001b[0m\u001b[0mself\u001b[0m\u001b[0;34m,\u001b[0m \u001b[0mother\u001b[0m\u001b[0;34m)\u001b[0m\u001b[0;34m:\u001b[0m\u001b[0;34m\u001b[0m\u001b[0;34m\u001b[0m\u001b[0m\n\u001b[0;32m---> 29\u001b[0;31m         \u001b[0;32mreturn\u001b[0m \u001b[0mself\u001b[0m\u001b[0;34m.\u001b[0m\u001b[0m_cmp_method\u001b[0m\u001b[0;34m(\u001b[0m\u001b[0mother\u001b[0m\u001b[0;34m,\u001b[0m \u001b[0moperator\u001b[0m\u001b[0;34m.\u001b[0m\u001b[0meq\u001b[0m\u001b[0;34m)\u001b[0m\u001b[0;34m\u001b[0m\u001b[0;34m\u001b[0m\u001b[0m\n\u001b[0m\u001b[1;32m     30\u001b[0m \u001b[0;34m\u001b[0m\u001b[0m\n\u001b[1;32m     31\u001b[0m     \u001b[0;34m@\u001b[0m\u001b[0munpack_zerodim_and_defer\u001b[0m\u001b[0;34m(\u001b[0m\u001b[0;34m\"__ne__\"\u001b[0m\u001b[0;34m)\u001b[0m\u001b[0;34m\u001b[0m\u001b[0;34m\u001b[0m\u001b[0m\n",
      "\u001b[0;32m/opt/conda/lib/python3.7/site-packages/pandas/core/series.py\u001b[0m in \u001b[0;36m_cmp_method\u001b[0;34m(self, other, op)\u001b[0m\n\u001b[1;32m   4976\u001b[0m         \u001b[0mrvalues\u001b[0m \u001b[0;34m=\u001b[0m \u001b[0mextract_array\u001b[0m\u001b[0;34m(\u001b[0m\u001b[0mother\u001b[0m\u001b[0;34m,\u001b[0m \u001b[0mextract_numpy\u001b[0m\u001b[0;34m=\u001b[0m\u001b[0;32mTrue\u001b[0m\u001b[0;34m)\u001b[0m\u001b[0;34m\u001b[0m\u001b[0;34m\u001b[0m\u001b[0m\n\u001b[1;32m   4977\u001b[0m \u001b[0;34m\u001b[0m\u001b[0m\n\u001b[0;32m-> 4978\u001b[0;31m         \u001b[0mres_values\u001b[0m \u001b[0;34m=\u001b[0m \u001b[0mops\u001b[0m\u001b[0;34m.\u001b[0m\u001b[0mcomparison_op\u001b[0m\u001b[0;34m(\u001b[0m\u001b[0mlvalues\u001b[0m\u001b[0;34m,\u001b[0m \u001b[0mrvalues\u001b[0m\u001b[0;34m,\u001b[0m \u001b[0mop\u001b[0m\u001b[0;34m)\u001b[0m\u001b[0;34m\u001b[0m\u001b[0;34m\u001b[0m\u001b[0m\n\u001b[0m\u001b[1;32m   4979\u001b[0m \u001b[0;34m\u001b[0m\u001b[0m\n\u001b[1;32m   4980\u001b[0m         \u001b[0;32mreturn\u001b[0m \u001b[0mself\u001b[0m\u001b[0;34m.\u001b[0m\u001b[0m_construct_result\u001b[0m\u001b[0;34m(\u001b[0m\u001b[0mres_values\u001b[0m\u001b[0;34m,\u001b[0m \u001b[0mname\u001b[0m\u001b[0;34m=\u001b[0m\u001b[0mres_name\u001b[0m\u001b[0;34m)\u001b[0m\u001b[0;34m\u001b[0m\u001b[0;34m\u001b[0m\u001b[0m\n",
      "\u001b[0;32m/opt/conda/lib/python3.7/site-packages/pandas/core/ops/array_ops.py\u001b[0m in \u001b[0;36mcomparison_op\u001b[0;34m(left, right, op)\u001b[0m\n\u001b[1;32m    241\u001b[0m \u001b[0;34m\u001b[0m\u001b[0m\n\u001b[1;32m    242\u001b[0m     \u001b[0;32melif\u001b[0m \u001b[0mis_object_dtype\u001b[0m\u001b[0;34m(\u001b[0m\u001b[0mlvalues\u001b[0m\u001b[0;34m.\u001b[0m\u001b[0mdtype\u001b[0m\u001b[0;34m)\u001b[0m\u001b[0;34m:\u001b[0m\u001b[0;34m\u001b[0m\u001b[0;34m\u001b[0m\u001b[0m\n\u001b[0;32m--> 243\u001b[0;31m         \u001b[0mres_values\u001b[0m \u001b[0;34m=\u001b[0m \u001b[0mcomp_method_OBJECT_ARRAY\u001b[0m\u001b[0;34m(\u001b[0m\u001b[0mop\u001b[0m\u001b[0;34m,\u001b[0m \u001b[0mlvalues\u001b[0m\u001b[0;34m,\u001b[0m \u001b[0mrvalues\u001b[0m\u001b[0;34m)\u001b[0m\u001b[0;34m\u001b[0m\u001b[0;34m\u001b[0m\u001b[0m\n\u001b[0m\u001b[1;32m    244\u001b[0m \u001b[0;34m\u001b[0m\u001b[0m\n\u001b[1;32m    245\u001b[0m     \u001b[0;32melse\u001b[0m\u001b[0;34m:\u001b[0m\u001b[0;34m\u001b[0m\u001b[0;34m\u001b[0m\u001b[0m\n",
      "\u001b[0;32m/opt/conda/lib/python3.7/site-packages/pandas/core/ops/array_ops.py\u001b[0m in \u001b[0;36mcomp_method_OBJECT_ARRAY\u001b[0;34m(op, x, y)\u001b[0m\n\u001b[1;32m     53\u001b[0m         \u001b[0mresult\u001b[0m \u001b[0;34m=\u001b[0m \u001b[0mlibops\u001b[0m\u001b[0;34m.\u001b[0m\u001b[0mvec_compare\u001b[0m\u001b[0;34m(\u001b[0m\u001b[0mx\u001b[0m\u001b[0;34m.\u001b[0m\u001b[0mravel\u001b[0m\u001b[0;34m(\u001b[0m\u001b[0;34m)\u001b[0m\u001b[0;34m,\u001b[0m \u001b[0my\u001b[0m\u001b[0;34m.\u001b[0m\u001b[0mravel\u001b[0m\u001b[0;34m(\u001b[0m\u001b[0;34m)\u001b[0m\u001b[0;34m,\u001b[0m \u001b[0mop\u001b[0m\u001b[0;34m)\u001b[0m\u001b[0;34m\u001b[0m\u001b[0;34m\u001b[0m\u001b[0m\n\u001b[1;32m     54\u001b[0m     \u001b[0;32melse\u001b[0m\u001b[0;34m:\u001b[0m\u001b[0;34m\u001b[0m\u001b[0;34m\u001b[0m\u001b[0m\n\u001b[0;32m---> 55\u001b[0;31m         \u001b[0mresult\u001b[0m \u001b[0;34m=\u001b[0m \u001b[0mlibops\u001b[0m\u001b[0;34m.\u001b[0m\u001b[0mscalar_compare\u001b[0m\u001b[0;34m(\u001b[0m\u001b[0mx\u001b[0m\u001b[0;34m.\u001b[0m\u001b[0mravel\u001b[0m\u001b[0;34m(\u001b[0m\u001b[0;34m)\u001b[0m\u001b[0;34m,\u001b[0m \u001b[0my\u001b[0m\u001b[0;34m,\u001b[0m \u001b[0mop\u001b[0m\u001b[0;34m)\u001b[0m\u001b[0;34m\u001b[0m\u001b[0;34m\u001b[0m\u001b[0m\n\u001b[0m\u001b[1;32m     56\u001b[0m     \u001b[0;32mreturn\u001b[0m \u001b[0mresult\u001b[0m\u001b[0;34m.\u001b[0m\u001b[0mreshape\u001b[0m\u001b[0;34m(\u001b[0m\u001b[0mx\u001b[0m\u001b[0;34m.\u001b[0m\u001b[0mshape\u001b[0m\u001b[0;34m)\u001b[0m\u001b[0;34m\u001b[0m\u001b[0;34m\u001b[0m\u001b[0m\n\u001b[1;32m     57\u001b[0m \u001b[0;34m\u001b[0m\u001b[0m\n",
      "\u001b[0;31mKeyboardInterrupt\u001b[0m: "
     ]
    }
   ],
   "source": [
    "for k in range(1,K+1):\n",
    "    \n",
    "    parent_k = {}\n",
    "    last_route = []\n",
    "    Tau_k = copy.deepcopy(Tau[k-1])\n",
    "    Q = {}\n",
    "    for p in mark:\n",
    "        #print(p)\n",
    "        routes = findServep(p, Tau[k-1][p])\n",
    "        for (r,d) in routes:\n",
    "            if (r,d) in Q:\n",
    "                if isBefore(p,Q[(r,d)],r,d):\n",
    "                    Q[(r,d)] = p\n",
    "                    \n",
    "            else: \n",
    "                Q[(r,d)] = p\n",
    "                \n",
    "    print(len(mark))\n",
    "    mark = []\n",
    "    for (r,d) in Q:\n",
    "        stop = Q[(r,d)]\n",
    "        \n",
    "        trip_id,seq_after = findEarliestTrip(r,d,stop,Tau[k-1][stop])\n",
    "        \n",
    "        trip_after  =  timetable_limit[\n",
    "            (timetable_limit.trip_id == trip_id)&\n",
    "            (timetable_limit.stop_sequence.isin(seq_after))\n",
    "        ]\n",
    "        \n",
    "        #stops_after = timetable_limit.stop_id.values.tolist()\n",
    "        \n",
    "        #arr_time_after = timetable_limit.arrival_time.values.tolist()\n",
    "        \n",
    "        for index,row in trip_after.iterrows():\n",
    "            \n",
    "            stop_after = row['stop_id']\n",
    "            arr_time_after = row['arrival_time']\n",
    "            dep_time_after = row['departure_time']\n",
    "            \n",
    "            \n",
    "            if arr_time_after< min(Tau_star[stop_after],Tau_star[destination]):\n",
    "                Tau_k[stop_after] = arr_time_after\n",
    "                Tau_star[stop_after] = arr_time_after\n",
    "                \n",
    "                mark.append(stop_after)\n",
    "                \n",
    "                parent_k[stop_after] = {\n",
    "                                        'stop_id': stop_after,\n",
    "                                        'trip_id':trip_id,\n",
    "                                        'arrival_time':arr_time_after,\n",
    "                                        'departure_time': dep_time_after,\n",
    "                                        'parent_stop_id':stop,\n",
    "                                        'round':k\n",
    "                                       }\n",
    "                \n",
    "    walk_path = stops_walk[\n",
    "        (stops_walk['stop_id' ].isin(mark))&\n",
    "        (~ stops_walk['stop_id2' ].isin(mark))\n",
    "    ]\n",
    "    \n",
    "             \n",
    "    for index3, row3 in  walk_path.iterrows():\n",
    "        from_stop_id = row3['stop_id']\n",
    "        to_stop_id = row3['stop_id2']\n",
    "        walk_time = row3['walk_time']\n",
    "        \n",
    "        \n",
    "        if Tau_k[to_stop_id] > Tau[k-1][from_stop_id]+walk_time:\n",
    "            \n",
    "            Tau_k[to_stop_id] = Tau[k-1][from_stop_id]+walk_time\n",
    "            Tau_star[to_stop_id] = min(Tau_k[to_stop_id], Tau_star[to_stop_id])\n",
    "            \n",
    "            mark.append(to_stop_id)\n",
    "            \n",
    "            parent_k[to_stop_id] = {\n",
    "                                        'stop_id': to_stop_id,\n",
    "                                        'trip_id':'walk',\n",
    "                                        'arrival_time':Tau_k[to_stop_id],\n",
    "                                        'departure_time': Tau_k[to_stop_id],\n",
    "                                        'parent_stop_id':to_stop_id,\n",
    "                                        'round':k\n",
    "                                       }\n",
    "            \n",
    "\n",
    "            \n",
    "    mark = list(set(mark))\n",
    "        \n",
    "    Tau.append(Tau_k)\n",
    "    Parent.append(parent_k)\n",
    "        \n",
    "            \n",
    "        \n",
    "        "
   ]
  },
  {
   "cell_type": "code",
   "execution_count": 1022,
   "metadata": {},
   "outputs": [
    {
     "data": {
      "text/plain": [
       "1548"
      ]
     },
     "execution_count": 1022,
     "metadata": {},
     "output_type": "execute_result"
    }
   ],
   "source": [
    "len(Tau_star)"
   ]
  },
  {
   "cell_type": "code",
   "execution_count": 940,
   "metadata": {},
   "outputs": [],
   "source": [
    "destination = stops_ids[5]"
   ]
  },
  {
   "cell_type": "code",
   "execution_count": 941,
   "metadata": {},
   "outputs": [
    {
     "data": {
      "text/plain": [
       "38880"
      ]
     },
     "execution_count": 941,
     "metadata": {},
     "output_type": "execute_result"
    }
   ],
   "source": [
    "Tau_star[destination]"
   ]
  },
  {
   "cell_type": "markdown",
   "metadata": {},
   "source": [
    "Get route"
   ]
  },
  {
   "cell_type": "code",
   "execution_count": 978,
   "metadata": {},
   "outputs": [
    {
     "name": "stdout",
     "output_type": "stream",
     "text": [
      "3\n"
     ]
    }
   ],
   "source": [
    "for k in range(1,K+1):\n",
    "    if Tau[k][destination] < MAX_TIME:\n",
    "        max_trans = k\n",
    "        route = []\n",
    "        i = max_trans\n",
    "        d = destination\n",
    "        print(k)\n",
    "        while i > 0:\n",
    "            parent_i = Parent[i]\n",
    "            par = parent_i[d]\n",
    "            route.append(par)\n",
    "            d = par['parent_stop_id']\n",
    "            i = i-1\n",
    "        break;\n",
    "    \n",
    "    \n",
    "            \n",
    "        "
   ]
  },
  {
   "cell_type": "code",
   "execution_count": 979,
   "metadata": {},
   "outputs": [
    {
     "data": {
      "text/plain": [
       "'8591195'"
      ]
     },
     "execution_count": 979,
     "metadata": {},
     "output_type": "execute_result"
    }
   ],
   "source": [
    "source"
   ]
  },
  {
   "cell_type": "code",
   "execution_count": 980,
   "metadata": {},
   "outputs": [
    {
     "data": {
      "text/plain": [
       "[{'stop_id': '8503075',\n",
       "  'trip_id': '38.TA.26-18-j19-1.3.R',\n",
       "  'arrival_time': 38880,\n",
       "  'departure_time': 38880,\n",
       "  'parent_stop_id': '8503059',\n",
       "  'round': 3},\n",
       " {'stop_id': '8503059',\n",
       "  'trip_id': '151.TA.26-8-C-j19-1.5.H',\n",
       "  'arrival_time': 37320,\n",
       "  'departure_time': 37320,\n",
       "  'parent_stop_id': '8591184',\n",
       "  'round': 2},\n",
       " {'stop_id': '8591184',\n",
       "  'trip_id': '503.TA.26-32-j19-1.4.R',\n",
       "  'arrival_time': 36180,\n",
       "  'departure_time': 36180,\n",
       "  'parent_stop_id': '8591195',\n",
       "  'round': 1}]"
      ]
     },
     "execution_count": 980,
     "metadata": {},
     "output_type": "execute_result"
    }
   ],
   "source": [
    "route"
   ]
  },
  {
   "cell_type": "code",
   "execution_count": null,
   "metadata": {},
   "outputs": [],
   "source": [
    "timetable[timetable.trip_id == '503.TA.26-32-j19-1.4.R']"
   ]
  },
  {
   "cell_type": "code",
   "execution_count": 1014,
   "metadata": {},
   "outputs": [],
   "source": [
    "def findServep(stop_id, arr_t):\n",
    "    valid_trips = timetable_limit[\n",
    "        (timetable_limit['stop_id'] == stop_id)&\n",
    "        (timetable_limit['arrival_time'] >= arr_t)\n",
    "    ]\n",
    "    \n",
    "    return  valid_trips[['route_id','direction_id']].drop_duplicates().values.tolist() "
   ]
  },
  {
   "cell_type": "code",
   "execution_count": 1030,
   "metadata": {},
   "outputs": [
    {
     "data": {
      "text/plain": [
       "[['26-32-j19-1', '1'], ['26-32-j19-1', '0']]"
      ]
     },
     "execution_count": 1030,
     "metadata": {},
     "output_type": "execute_result"
    }
   ],
   "source": [
    "findServep(source, t)"
   ]
  },
  {
   "cell_type": "code",
   "execution_count": 1031,
   "metadata": {},
   "outputs": [],
   "source": [
    "def isBefore(stop_id1, stop_id2, route_id, direction_id):\n",
    "    res = False\n",
    "    trips = timetable_limit[(timetable_limit['route_id'] == route_id)&\n",
    "                              (timetable_limit['direction_id'] == direction_id)&\n",
    "                            ((timetable_limit['stop_id'] == stop_id1)|\n",
    "                            (timetable_limit['stop_id'] == stop_id2))]\n",
    "    if not trips.empty:\n",
    "        T = {}\n",
    "        for index,row in trips.iterrows():\n",
    "            T[row['stop_id']] = row['stop_sequence']\n",
    "        \n",
    "            if (stop_id1 in T) and (stop_id2 in T):\n",
    "                res = T[stop_id1] < T[stop_id2]\n",
    "\n",
    "    return res\n"
   ]
  },
  {
   "cell_type": "code",
   "execution_count": 1016,
   "metadata": {},
   "outputs": [],
   "source": [
    "trips = timetable_limit[(timetable_limit['route_id'] == '429.TA.26-705-j19-1.3.H')&\n",
    "                              (timetable_limit['direction_id'] == '0')]"
   ]
  },
  {
   "cell_type": "code",
   "execution_count": 1017,
   "metadata": {},
   "outputs": [
    {
     "data": {
      "text/html": [
       "<div>\n",
       "<style scoped>\n",
       "    .dataframe tbody tr th:only-of-type {\n",
       "        vertical-align: middle;\n",
       "    }\n",
       "\n",
       "    .dataframe tbody tr th {\n",
       "        vertical-align: top;\n",
       "    }\n",
       "\n",
       "    .dataframe thead th {\n",
       "        text-align: right;\n",
       "    }\n",
       "</style>\n",
       "<table border=\"1\" class=\"dataframe\">\n",
       "  <thead>\n",
       "    <tr style=\"text-align: right;\">\n",
       "      <th></th>\n",
       "      <th>stop_id</th>\n",
       "      <th>trip_id</th>\n",
       "      <th>arrival_time</th>\n",
       "      <th>departure_time</th>\n",
       "      <th>stop_sequence</th>\n",
       "      <th>service_id</th>\n",
       "      <th>route_id</th>\n",
       "      <th>route_desc</th>\n",
       "      <th>route_type</th>\n",
       "      <th>direction_id</th>\n",
       "      <th>stop_name</th>\n",
       "      <th>stop_lat</th>\n",
       "      <th>stop_lon</th>\n",
       "      <th>location_type</th>\n",
       "      <th>parent_station</th>\n",
       "    </tr>\n",
       "  </thead>\n",
       "  <tbody>\n",
       "  </tbody>\n",
       "</table>\n",
       "</div>"
      ],
      "text/plain": [
       "Empty DataFrame\n",
       "Columns: [stop_id, trip_id, arrival_time, departure_time, stop_sequence, service_id, route_id, route_desc, route_type, direction_id, stop_name, stop_lat, stop_lon, location_type, parent_station]\n",
       "Index: []"
      ]
     },
     "execution_count": 1017,
     "metadata": {},
     "output_type": "execute_result"
    }
   ],
   "source": [
    "trips"
   ]
  },
  {
   "cell_type": "code",
   "execution_count": 1018,
   "metadata": {},
   "outputs": [],
   "source": [
    "timetable_limit = timetable"
   ]
  },
  {
   "cell_type": "code",
   "execution_count": 1051,
   "metadata": {},
   "outputs": [],
   "source": [
    "def findEarliestTrip(r,d,stop,t):\n",
    "    \n",
    "        earliest_trip = timetable_limit[\n",
    "            (timetable_limit['route_id']==r)&\n",
    "            (timetable_limit['direction_id']==d)&\n",
    "            (timetable_limit['stop_id']==stop)&\n",
    "            (timetable_limit['departure_time']>= t)\n",
    "        ]\n",
    "        \n",
    "        #print(earliest_trip)\n",
    "        if not earliest_trip.empty:\n",
    "            earliest_trip = earliest_trip\\\n",
    "            .loc[earliest_trip.groupby(['route_id','direction_id','stop_id'])['arrival_time'].idxmin()]\n",
    "        \n",
    "        #earliest_trip.head(5)\n",
    "        \n",
    "            earliest_trip_id = earliest_trip.trip_id.values.tolist()[0]\n",
    "        \n",
    "            trip = timetable_limit[\n",
    "            (timetable_limit['trip_id'] == earliest_trip_id)\n",
    "            ]\n",
    "        \n",
    "            trip_id = trip['trip_id'].values.tolist()[0]\n",
    "        \n",
    "            seq = trip[trip['stop_id'] == stop]['stop_sequence'].max()\n",
    "            \n",
    "    \n",
    "        \n",
    "            trip.reset_index()\n",
    "        \n",
    "            trip_after = trip[trip['stop_sequence']>seq]\n",
    "        \n",
    "            seq_after = trip_after['stop_sequence'].values.tolist()\n",
    "            \n",
    "        else:\n",
    "            trip_id = '123'\n",
    "            seq_after = [0]\n",
    "        return trip_id,seq_after\n",
    "    "
   ]
  },
  {
   "cell_type": "code",
   "execution_count": 1052,
   "metadata": {},
   "outputs": [],
   "source": [
    "valid_trips = timetable_limit[\n",
    "        (timetable_limit['stop_id'] == source)&\n",
    "        (timetable_limit['arrival_time'] >= t)\n",
    "    ]\n",
    "    "
   ]
  },
  {
   "cell_type": "code",
   "execution_count": 1053,
   "metadata": {},
   "outputs": [
    {
     "data": {
      "text/plain": [
       "[['26-32-j19-1', '1'], ['26-32-j19-1', '0']]"
      ]
     },
     "execution_count": 1053,
     "metadata": {},
     "output_type": "execute_result"
    }
   ],
   "source": [
    " valid_trips[['route_id','direction_id']].drop_duplicates().values.tolist() "
   ]
  },
  {
   "cell_type": "code",
   "execution_count": 1054,
   "metadata": {},
   "outputs": [
    {
     "data": {
      "text/plain": [
       "('1221.TA.26-32-j19-1.7.H', [22, 23, 24, 25, 26])"
      ]
     },
     "execution_count": 1054,
     "metadata": {},
     "output_type": "execute_result"
    }
   ],
   "source": [
    "findEarliestTrip('26-32-j19-1','0',source,t)"
   ]
  },
  {
   "cell_type": "code",
   "execution_count": 1055,
   "metadata": {},
   "outputs": [],
   "source": [
    "r = '26-705-j19-1'\n",
    "d = '1'\n"
   ]
  },
  {
   "cell_type": "code",
   "execution_count": 1056,
   "metadata": {},
   "outputs": [
    {
     "data": {
      "text/html": [
       "<div>\n",
       "<style scoped>\n",
       "    .dataframe tbody tr th:only-of-type {\n",
       "        vertical-align: middle;\n",
       "    }\n",
       "\n",
       "    .dataframe tbody tr th {\n",
       "        vertical-align: top;\n",
       "    }\n",
       "\n",
       "    .dataframe thead th {\n",
       "        text-align: right;\n",
       "    }\n",
       "</style>\n",
       "<table border=\"1\" class=\"dataframe\">\n",
       "  <thead>\n",
       "    <tr style=\"text-align: right;\">\n",
       "      <th></th>\n",
       "      <th>stop_id</th>\n",
       "      <th>trip_id</th>\n",
       "      <th>arrival_time</th>\n",
       "      <th>departure_time</th>\n",
       "      <th>stop_sequence</th>\n",
       "      <th>service_id</th>\n",
       "      <th>route_id</th>\n",
       "      <th>route_desc</th>\n",
       "      <th>route_type</th>\n",
       "      <th>direction_id</th>\n",
       "      <th>stop_name</th>\n",
       "      <th>stop_lat</th>\n",
       "      <th>stop_lon</th>\n",
       "      <th>location_type</th>\n",
       "      <th>parent_station</th>\n",
       "    </tr>\n",
       "  </thead>\n",
       "  <tbody>\n",
       "  </tbody>\n",
       "</table>\n",
       "</div>"
      ],
      "text/plain": [
       "Empty DataFrame\n",
       "Columns: [stop_id, trip_id, arrival_time, departure_time, stop_sequence, service_id, route_id, route_desc, route_type, direction_id, stop_name, stop_lat, stop_lon, location_type, parent_station]\n",
       "Index: []"
      ]
     },
     "execution_count": 1056,
     "metadata": {},
     "output_type": "execute_result"
    }
   ],
   "source": [
    "earliest_trip = timetable_limit[\n",
    "            (timetable_limit['route_id']==r)&\n",
    "            (timetable_limit['direction_id']==d)&\n",
    "            (timetable_limit['stop_id']==source)&\n",
    "            (timetable_limit['departure_time']>= t)\n",
    "        ]\n",
    "\n",
    "\n",
    "earliest_trip = earliest_trip\\\n",
    "        .loc[earliest_trip.groupby(['route_id','direction_id','stop_id'])['arrival_time'].idxmin()]\n",
    "        \n",
    "earliest_trip.head(5)"
   ]
  },
  {
   "cell_type": "code",
   "execution_count": 1057,
   "metadata": {},
   "outputs": [],
   "source": [
    "earliest_trip_id = earliest_trip.trip_id"
   ]
  },
  {
   "cell_type": "code",
   "execution_count": 1058,
   "metadata": {},
   "outputs": [
    {
     "ename": "IndexError",
     "evalue": "list index out of range",
     "output_type": "error",
     "traceback": [
      "\u001b[0;31m---------------------------------------------------------------------------\u001b[0m",
      "\u001b[0;31mIndexError\u001b[0m                                Traceback (most recent call last)",
      "\u001b[0;32m<ipython-input-1058-6cc1f375ca49>\u001b[0m in \u001b[0;36m<module>\u001b[0;34m\u001b[0m\n\u001b[0;32m----> 1\u001b[0;31m \u001b[0mearliest_trip_id\u001b[0m \u001b[0;34m=\u001b[0m\u001b[0mearliest_trip\u001b[0m\u001b[0;34m.\u001b[0m\u001b[0mtrip_id\u001b[0m\u001b[0;34m.\u001b[0m\u001b[0mvalues\u001b[0m\u001b[0;34m.\u001b[0m\u001b[0mtolist\u001b[0m\u001b[0;34m(\u001b[0m\u001b[0;34m)\u001b[0m\u001b[0;34m[\u001b[0m\u001b[0;36m0\u001b[0m\u001b[0;34m]\u001b[0m\u001b[0;34m\u001b[0m\u001b[0;34m\u001b[0m\u001b[0m\n\u001b[0m",
      "\u001b[0;31mIndexError\u001b[0m: list index out of range"
     ]
    }
   ],
   "source": [
    "earliest_trip_id =earliest_trip.trip_id.values.tolist()[0]\n"
   ]
  },
  {
   "cell_type": "code",
   "execution_count": 1059,
   "metadata": {},
   "outputs": [
    {
     "ename": "ValueError",
     "evalue": "Can only compare identically-labeled Series objects",
     "output_type": "error",
     "traceback": [
      "\u001b[0;31m---------------------------------------------------------------------------\u001b[0m",
      "\u001b[0;31mValueError\u001b[0m                                Traceback (most recent call last)",
      "\u001b[0;32m<ipython-input-1059-54529013a8b0>\u001b[0m in \u001b[0;36m<module>\u001b[0;34m\u001b[0m\n\u001b[1;32m      1\u001b[0m trip = timetable_limit[\n\u001b[0;32m----> 2\u001b[0;31m             \u001b[0;34m(\u001b[0m\u001b[0mtimetable_limit\u001b[0m\u001b[0;34m[\u001b[0m\u001b[0;34m'trip_id'\u001b[0m\u001b[0;34m]\u001b[0m \u001b[0;34m==\u001b[0m \u001b[0mearliest_trip_id\u001b[0m\u001b[0;34m)\u001b[0m\u001b[0;34m\u001b[0m\u001b[0;34m\u001b[0m\u001b[0m\n\u001b[0m\u001b[1;32m      3\u001b[0m ].set_index('stop_id')\n",
      "\u001b[0;32m/opt/conda/lib/python3.7/site-packages/pandas/core/ops/common.py\u001b[0m in \u001b[0;36mnew_method\u001b[0;34m(self, other)\u001b[0m\n\u001b[1;32m     63\u001b[0m         \u001b[0mother\u001b[0m \u001b[0;34m=\u001b[0m \u001b[0mitem_from_zerodim\u001b[0m\u001b[0;34m(\u001b[0m\u001b[0mother\u001b[0m\u001b[0;34m)\u001b[0m\u001b[0;34m\u001b[0m\u001b[0;34m\u001b[0m\u001b[0m\n\u001b[1;32m     64\u001b[0m \u001b[0;34m\u001b[0m\u001b[0m\n\u001b[0;32m---> 65\u001b[0;31m         \u001b[0;32mreturn\u001b[0m \u001b[0mmethod\u001b[0m\u001b[0;34m(\u001b[0m\u001b[0mself\u001b[0m\u001b[0;34m,\u001b[0m \u001b[0mother\u001b[0m\u001b[0;34m)\u001b[0m\u001b[0;34m\u001b[0m\u001b[0;34m\u001b[0m\u001b[0m\n\u001b[0m\u001b[1;32m     66\u001b[0m \u001b[0;34m\u001b[0m\u001b[0m\n\u001b[1;32m     67\u001b[0m     \u001b[0;32mreturn\u001b[0m \u001b[0mnew_method\u001b[0m\u001b[0;34m\u001b[0m\u001b[0;34m\u001b[0m\u001b[0m\n",
      "\u001b[0;32m/opt/conda/lib/python3.7/site-packages/pandas/core/arraylike.py\u001b[0m in \u001b[0;36m__eq__\u001b[0;34m(self, other)\u001b[0m\n\u001b[1;32m     27\u001b[0m     \u001b[0;34m@\u001b[0m\u001b[0munpack_zerodim_and_defer\u001b[0m\u001b[0;34m(\u001b[0m\u001b[0;34m\"__eq__\"\u001b[0m\u001b[0;34m)\u001b[0m\u001b[0;34m\u001b[0m\u001b[0;34m\u001b[0m\u001b[0m\n\u001b[1;32m     28\u001b[0m     \u001b[0;32mdef\u001b[0m \u001b[0m__eq__\u001b[0m\u001b[0;34m(\u001b[0m\u001b[0mself\u001b[0m\u001b[0;34m,\u001b[0m \u001b[0mother\u001b[0m\u001b[0;34m)\u001b[0m\u001b[0;34m:\u001b[0m\u001b[0;34m\u001b[0m\u001b[0;34m\u001b[0m\u001b[0m\n\u001b[0;32m---> 29\u001b[0;31m         \u001b[0;32mreturn\u001b[0m \u001b[0mself\u001b[0m\u001b[0;34m.\u001b[0m\u001b[0m_cmp_method\u001b[0m\u001b[0;34m(\u001b[0m\u001b[0mother\u001b[0m\u001b[0;34m,\u001b[0m \u001b[0moperator\u001b[0m\u001b[0;34m.\u001b[0m\u001b[0meq\u001b[0m\u001b[0;34m)\u001b[0m\u001b[0;34m\u001b[0m\u001b[0;34m\u001b[0m\u001b[0m\n\u001b[0m\u001b[1;32m     30\u001b[0m \u001b[0;34m\u001b[0m\u001b[0m\n\u001b[1;32m     31\u001b[0m     \u001b[0;34m@\u001b[0m\u001b[0munpack_zerodim_and_defer\u001b[0m\u001b[0;34m(\u001b[0m\u001b[0;34m\"__ne__\"\u001b[0m\u001b[0;34m)\u001b[0m\u001b[0;34m\u001b[0m\u001b[0;34m\u001b[0m\u001b[0m\n",
      "\u001b[0;32m/opt/conda/lib/python3.7/site-packages/pandas/core/series.py\u001b[0m in \u001b[0;36m_cmp_method\u001b[0;34m(self, other, op)\u001b[0m\n\u001b[1;32m   4971\u001b[0m \u001b[0;34m\u001b[0m\u001b[0m\n\u001b[1;32m   4972\u001b[0m         \u001b[0;32mif\u001b[0m \u001b[0misinstance\u001b[0m\u001b[0;34m(\u001b[0m\u001b[0mother\u001b[0m\u001b[0;34m,\u001b[0m \u001b[0mSeries\u001b[0m\u001b[0;34m)\u001b[0m \u001b[0;32mand\u001b[0m \u001b[0;32mnot\u001b[0m \u001b[0mself\u001b[0m\u001b[0;34m.\u001b[0m\u001b[0m_indexed_same\u001b[0m\u001b[0;34m(\u001b[0m\u001b[0mother\u001b[0m\u001b[0;34m)\u001b[0m\u001b[0;34m:\u001b[0m\u001b[0;34m\u001b[0m\u001b[0;34m\u001b[0m\u001b[0m\n\u001b[0;32m-> 4973\u001b[0;31m             \u001b[0;32mraise\u001b[0m \u001b[0mValueError\u001b[0m\u001b[0;34m(\u001b[0m\u001b[0;34m\"Can only compare identically-labeled Series objects\"\u001b[0m\u001b[0;34m)\u001b[0m\u001b[0;34m\u001b[0m\u001b[0;34m\u001b[0m\u001b[0m\n\u001b[0m\u001b[1;32m   4974\u001b[0m \u001b[0;34m\u001b[0m\u001b[0m\n\u001b[1;32m   4975\u001b[0m         \u001b[0mlvalues\u001b[0m \u001b[0;34m=\u001b[0m \u001b[0mextract_array\u001b[0m\u001b[0;34m(\u001b[0m\u001b[0mself\u001b[0m\u001b[0;34m,\u001b[0m \u001b[0mextract_numpy\u001b[0m\u001b[0;34m=\u001b[0m\u001b[0;32mTrue\u001b[0m\u001b[0;34m)\u001b[0m\u001b[0;34m\u001b[0m\u001b[0;34m\u001b[0m\u001b[0m\n",
      "\u001b[0;31mValueError\u001b[0m: Can only compare identically-labeled Series objects"
     ]
    }
   ],
   "source": [
    "trip = timetable_limit[\n",
    "            (timetable_limit['trip_id'] == earliest_trip_id)\n",
    "].set_index('stop_id')\n"
   ]
  },
  {
   "cell_type": "code",
   "execution_count": 1060,
   "metadata": {},
   "outputs": [
    {
     "data": {
      "text/html": [
       "<div>\n",
       "<style scoped>\n",
       "    .dataframe tbody tr th:only-of-type {\n",
       "        vertical-align: middle;\n",
       "    }\n",
       "\n",
       "    .dataframe tbody tr th {\n",
       "        vertical-align: top;\n",
       "    }\n",
       "\n",
       "    .dataframe thead th {\n",
       "        text-align: right;\n",
       "    }\n",
       "</style>\n",
       "<table border=\"1\" class=\"dataframe\">\n",
       "  <thead>\n",
       "    <tr style=\"text-align: right;\">\n",
       "      <th></th>\n",
       "      <th>stop_id</th>\n",
       "      <th>trip_id</th>\n",
       "      <th>arrival_time</th>\n",
       "      <th>departure_time</th>\n",
       "      <th>stop_sequence</th>\n",
       "      <th>service_id</th>\n",
       "      <th>route_id</th>\n",
       "      <th>route_desc</th>\n",
       "      <th>route_type</th>\n",
       "      <th>direction_id</th>\n",
       "      <th>stop_name</th>\n",
       "      <th>stop_lat</th>\n",
       "      <th>stop_lon</th>\n",
       "      <th>location_type</th>\n",
       "      <th>parent_station</th>\n",
       "    </tr>\n",
       "  </thead>\n",
       "  <tbody>\n",
       "    <tr>\n",
       "      <th>0</th>\n",
       "      <td>8503064</td>\n",
       "      <td>1.TA.26-18-j19-1.1.H</td>\n",
       "      <td>34860</td>\n",
       "      <td>34860</td>\n",
       "      <td>1</td>\n",
       "      <td>TA+b0b46</td>\n",
       "      <td>26-18-j19-1</td>\n",
       "      <td>S-Bahn</td>\n",
       "      <td>400</td>\n",
       "      <td>0</td>\n",
       "      <td>Scheuren</td>\n",
       "      <td>47.322597</td>\n",
       "      <td>8.659544</td>\n",
       "      <td>NaN</td>\n",
       "      <td></td>\n",
       "    </tr>\n",
       "    <tr>\n",
       "      <th>1</th>\n",
       "      <td>8503065:0:1</td>\n",
       "      <td>1.TA.26-18-j19-1.1.H</td>\n",
       "      <td>35100</td>\n",
       "      <td>35100</td>\n",
       "      <td>2</td>\n",
       "      <td>TA+b0b46</td>\n",
       "      <td>26-18-j19-1</td>\n",
       "      <td>S-Bahn</td>\n",
       "      <td>400</td>\n",
       "      <td>0</td>\n",
       "      <td>Forch</td>\n",
       "      <td>47.325398</td>\n",
       "      <td>8.647964</td>\n",
       "      <td>NaN</td>\n",
       "      <td>8503065P</td>\n",
       "    </tr>\n",
       "    <tr>\n",
       "      <th>2</th>\n",
       "      <td>8503074</td>\n",
       "      <td>1.TA.26-18-j19-1.1.H</td>\n",
       "      <td>35160</td>\n",
       "      <td>35160</td>\n",
       "      <td>3</td>\n",
       "      <td>TA+b0b46</td>\n",
       "      <td>26-18-j19-1</td>\n",
       "      <td>S-Bahn</td>\n",
       "      <td>400</td>\n",
       "      <td>0</td>\n",
       "      <td>Neue Forch</td>\n",
       "      <td>47.325806</td>\n",
       "      <td>8.637840</td>\n",
       "      <td>NaN</td>\n",
       "      <td></td>\n",
       "    </tr>\n",
       "    <tr>\n",
       "      <th>3</th>\n",
       "      <td>8503068</td>\n",
       "      <td>1.TA.26-18-j19-1.1.H</td>\n",
       "      <td>35220</td>\n",
       "      <td>35220</td>\n",
       "      <td>4</td>\n",
       "      <td>TA+b0b46</td>\n",
       "      <td>26-18-j19-1</td>\n",
       "      <td>S-Bahn</td>\n",
       "      <td>400</td>\n",
       "      <td>0</td>\n",
       "      <td>Maiacher</td>\n",
       "      <td>47.328169</td>\n",
       "      <td>8.631067</td>\n",
       "      <td>NaN</td>\n",
       "      <td></td>\n",
       "    </tr>\n",
       "    <tr>\n",
       "      <th>4</th>\n",
       "      <td>8503066</td>\n",
       "      <td>1.TA.26-18-j19-1.1.H</td>\n",
       "      <td>35280</td>\n",
       "      <td>35280</td>\n",
       "      <td>5</td>\n",
       "      <td>TA+b0b46</td>\n",
       "      <td>26-18-j19-1</td>\n",
       "      <td>S-Bahn</td>\n",
       "      <td>400</td>\n",
       "      <td>0</td>\n",
       "      <td>Zumikon</td>\n",
       "      <td>47.331688</td>\n",
       "      <td>8.623809</td>\n",
       "      <td>NaN</td>\n",
       "      <td></td>\n",
       "    </tr>\n",
       "    <tr>\n",
       "      <th>...</th>\n",
       "      <td>...</td>\n",
       "      <td>...</td>\n",
       "      <td>...</td>\n",
       "      <td>...</td>\n",
       "      <td>...</td>\n",
       "      <td>...</td>\n",
       "      <td>...</td>\n",
       "      <td>...</td>\n",
       "      <td>...</td>\n",
       "      <td>...</td>\n",
       "      <td>...</td>\n",
       "      <td>...</td>\n",
       "      <td>...</td>\n",
       "      <td>...</td>\n",
       "      <td>...</td>\n",
       "    </tr>\n",
       "    <tr>\n",
       "      <th>1172</th>\n",
       "      <td>8576788</td>\n",
       "      <td>99.TA.26-813-j19-1.2.R</td>\n",
       "      <td>55440</td>\n",
       "      <td>55440</td>\n",
       "      <td>4</td>\n",
       "      <td>TA+b0003</td>\n",
       "      <td>26-813-j19-1</td>\n",
       "      <td>Bus</td>\n",
       "      <td>700</td>\n",
       "      <td>1</td>\n",
       "      <td>Uster, Burgreben</td>\n",
       "      <td>47.343887</td>\n",
       "      <td>8.717090</td>\n",
       "      <td>NaN</td>\n",
       "      <td></td>\n",
       "    </tr>\n",
       "    <tr>\n",
       "      <th>1173</th>\n",
       "      <td>8581539</td>\n",
       "      <td>99.TA.26-813-j19-1.2.R</td>\n",
       "      <td>55500</td>\n",
       "      <td>55500</td>\n",
       "      <td>5</td>\n",
       "      <td>TA+b0003</td>\n",
       "      <td>26-813-j19-1</td>\n",
       "      <td>Bus</td>\n",
       "      <td>700</td>\n",
       "      <td>1</td>\n",
       "      <td>Uster, Apothekerstrasse</td>\n",
       "      <td>47.346182</td>\n",
       "      <td>8.715069</td>\n",
       "      <td>NaN</td>\n",
       "      <td></td>\n",
       "    </tr>\n",
       "    <tr>\n",
       "      <th>1174</th>\n",
       "      <td>8576095</td>\n",
       "      <td>99.TA.26-813-j19-1.2.R</td>\n",
       "      <td>55500</td>\n",
       "      <td>55500</td>\n",
       "      <td>6</td>\n",
       "      <td>TA+b0003</td>\n",
       "      <td>26-813-j19-1</td>\n",
       "      <td>Bus</td>\n",
       "      <td>700</td>\n",
       "      <td>1</td>\n",
       "      <td>Uster, Stadtpark</td>\n",
       "      <td>47.348154</td>\n",
       "      <td>8.715697</td>\n",
       "      <td>NaN</td>\n",
       "      <td></td>\n",
       "    </tr>\n",
       "    <tr>\n",
       "      <th>1175</th>\n",
       "      <td>8581548</td>\n",
       "      <td>99.TA.26-813-j19-1.2.R</td>\n",
       "      <td>55560</td>\n",
       "      <td>55560</td>\n",
       "      <td>7</td>\n",
       "      <td>TA+b0003</td>\n",
       "      <td>26-813-j19-1</td>\n",
       "      <td>Bus</td>\n",
       "      <td>700</td>\n",
       "      <td>1</td>\n",
       "      <td>Uster, Poststrasse</td>\n",
       "      <td>47.349116</td>\n",
       "      <td>8.717000</td>\n",
       "      <td>NaN</td>\n",
       "      <td></td>\n",
       "    </tr>\n",
       "    <tr>\n",
       "      <th>1176</th>\n",
       "      <td>8573504</td>\n",
       "      <td>99.TA.26-813-j19-1.2.R</td>\n",
       "      <td>55620</td>\n",
       "      <td>55620</td>\n",
       "      <td>8</td>\n",
       "      <td>TA+b0003</td>\n",
       "      <td>26-813-j19-1</td>\n",
       "      <td>Bus</td>\n",
       "      <td>700</td>\n",
       "      <td>1</td>\n",
       "      <td>Uster, Bahnhof</td>\n",
       "      <td>47.350875</td>\n",
       "      <td>8.717602</td>\n",
       "      <td>NaN</td>\n",
       "      <td></td>\n",
       "    </tr>\n",
       "  </tbody>\n",
       "</table>\n",
       "<p>258725 rows × 15 columns</p>\n",
       "</div>"
      ],
      "text/plain": [
       "          stop_id                 trip_id  arrival_time  departure_time  \\\n",
       "0         8503064    1.TA.26-18-j19-1.1.H         34860           34860   \n",
       "1     8503065:0:1    1.TA.26-18-j19-1.1.H         35100           35100   \n",
       "2         8503074    1.TA.26-18-j19-1.1.H         35160           35160   \n",
       "3         8503068    1.TA.26-18-j19-1.1.H         35220           35220   \n",
       "4         8503066    1.TA.26-18-j19-1.1.H         35280           35280   \n",
       "...           ...                     ...           ...             ...   \n",
       "1172      8576788  99.TA.26-813-j19-1.2.R         55440           55440   \n",
       "1173      8581539  99.TA.26-813-j19-1.2.R         55500           55500   \n",
       "1174      8576095  99.TA.26-813-j19-1.2.R         55500           55500   \n",
       "1175      8581548  99.TA.26-813-j19-1.2.R         55560           55560   \n",
       "1176      8573504  99.TA.26-813-j19-1.2.R         55620           55620   \n",
       "\n",
       "      stop_sequence service_id      route_id route_desc route_type  \\\n",
       "0                 1   TA+b0b46   26-18-j19-1     S-Bahn        400   \n",
       "1                 2   TA+b0b46   26-18-j19-1     S-Bahn        400   \n",
       "2                 3   TA+b0b46   26-18-j19-1     S-Bahn        400   \n",
       "3                 4   TA+b0b46   26-18-j19-1     S-Bahn        400   \n",
       "4                 5   TA+b0b46   26-18-j19-1     S-Bahn        400   \n",
       "...             ...        ...           ...        ...        ...   \n",
       "1172              4   TA+b0003  26-813-j19-1        Bus        700   \n",
       "1173              5   TA+b0003  26-813-j19-1        Bus        700   \n",
       "1174              6   TA+b0003  26-813-j19-1        Bus        700   \n",
       "1175              7   TA+b0003  26-813-j19-1        Bus        700   \n",
       "1176              8   TA+b0003  26-813-j19-1        Bus        700   \n",
       "\n",
       "     direction_id                stop_name   stop_lat  stop_lon  \\\n",
       "0               0                 Scheuren  47.322597  8.659544   \n",
       "1               0                    Forch  47.325398  8.647964   \n",
       "2               0               Neue Forch  47.325806  8.637840   \n",
       "3               0                 Maiacher  47.328169  8.631067   \n",
       "4               0                  Zumikon  47.331688  8.623809   \n",
       "...           ...                      ...        ...       ...   \n",
       "1172            1         Uster, Burgreben  47.343887  8.717090   \n",
       "1173            1  Uster, Apothekerstrasse  47.346182  8.715069   \n",
       "1174            1         Uster, Stadtpark  47.348154  8.715697   \n",
       "1175            1       Uster, Poststrasse  47.349116  8.717000   \n",
       "1176            1           Uster, Bahnhof  47.350875  8.717602   \n",
       "\n",
       "      location_type parent_station  \n",
       "0               NaN                 \n",
       "1               NaN       8503065P  \n",
       "2               NaN                 \n",
       "3               NaN                 \n",
       "4               NaN                 \n",
       "...             ...            ...  \n",
       "1172            NaN                 \n",
       "1173            NaN                 \n",
       "1174            NaN                 \n",
       "1175            NaN                 \n",
       "1176            NaN                 \n",
       "\n",
       "[258725 rows x 15 columns]"
      ]
     },
     "execution_count": 1060,
     "metadata": {},
     "output_type": "execute_result"
    }
   ],
   "source": [
    "timetable_limit"
   ]
  },
  {
   "cell_type": "code",
   "execution_count": 1072,
   "metadata": {},
   "outputs": [],
   "source": [
    "def getBestRoutes(source,destination, begin_time,time_limit, max_trans):\n",
    "    \n",
    "    t = begin_time\n",
    "\n",
    "    t_limit = time_limit\n",
    "\n",
    "    MAX_TIME = t_limit+1000\n",
    "\n",
    "    K = max_trans\n",
    "    Tau = []\n",
    "    Tau_0 = {}\n",
    "    Tau_star = {}\n",
    "    for s in stops_ids:\n",
    "        Tau_0[s] = MAX_TIME\n",
    "        Tau_star[s] = MAX_TIME\n",
    "    Tau_0[source] = t\n",
    "    Tau.append(Tau_0)\n",
    "\n",
    "    Parent = []\n",
    "\n",
    "    parent_0 = {}\n",
    "    \n",
    "    Parent.append(parent_0)\n",
    "\n",
    "    mark = [source]\n",
    "    \n",
    "    for k in range(1,K+1):\n",
    "    \n",
    "        parent_k = {}\n",
    "        last_route = []\n",
    "        Tau_k = copy.deepcopy(Tau[k-1])\n",
    "        Q = {}\n",
    "        for p in mark:\n",
    "        #print(p)\n",
    "            routes = findServep(p, Tau[k-1][p])\n",
    "            for (r,d) in routes:\n",
    "                if (r,d) in Q:\n",
    "                    if isBefore(p,Q[(r,d)],r,d):\n",
    "                        Q[(r,d)] = p\n",
    "                    \n",
    "                else: \n",
    "                    Q[(r,d)] = p\n",
    "                \n",
    "        print(len(mark))\n",
    "        mark = []\n",
    "        for (r,d) in Q:\n",
    "            stop = Q[(r,d)]\n",
    "        \n",
    "            trip_id,seq_after = findEarliestTrip(r,d,stop,Tau[k-1][stop])\n",
    "        \n",
    "            trip_after  =  timetable_limit[\n",
    "                (timetable_limit.trip_id == trip_id)&\n",
    "                (timetable_limit.stop_sequence.isin(seq_after))\n",
    "            ]\n",
    "        \n",
    "            #stops_after = timetable_limit.stop_id.values.tolist()\n",
    "        \n",
    "            #arr_time_after = timetable_limit.arrival_time.values.tolist()\n",
    "        \n",
    "            for index,row in trip_after.iterrows():\n",
    "            \n",
    "                stop_after = row['stop_id']\n",
    "                arr_time_after = row['arrival_time']\n",
    "                dep_time_after = row['departure_time']\n",
    "                stop_lat = row['stop_lat']\n",
    "                stop_lon = row['stop_lon']\n",
    "            \n",
    "            \n",
    "                if arr_time_after< min(Tau_star[stop_after],Tau_star[destination]):\n",
    "                    Tau_k[stop_after] = arr_time_after\n",
    "                    Tau_star[stop_after] = arr_time_after\n",
    "                \n",
    "                    mark.append(stop_after)\n",
    "                \n",
    "                    parent_k[stop_after] = {\n",
    "                                        'stop_id': stop_after,\n",
    "                                        'trip_id':trip_id,\n",
    "                                        'stop_lat':stop_lat,\n",
    "                                        'stop_lon':stop_lon,\n",
    "                                        'arrival_time':arr_time_after,\n",
    "                                        'departure_time': dep_time_after,\n",
    "                                        'parent_stop_id':stop,\n",
    "                                        'round':k\n",
    "                                       }\n",
    "                #if Tau[k-1][stop_after] < dep_time_after:\n",
    "                    \n",
    "                #    trip_id,seq_after = findEarliestTrip(r,d,stop_after,Tau[k-1][stop_after])\n",
    "                \n",
    "        walk_path = stops_walk[\n",
    "            (stops_walk['stop_id' ].isin(mark))&\n",
    "            (~ stops_walk['stop_id2' ].isin(mark))\n",
    "        ]\n",
    "    \n",
    "             \n",
    "        for index3, row3 in  walk_path.iterrows():\n",
    "            from_stop_id = row3['stop_id']\n",
    "            to_stop_id = row3['stop_id2']\n",
    "            walk_time = row3['walk_time']\n",
    "            stop_lat = row3['stop_lat']\n",
    "            stop_lon = row3['stop_lon']\n",
    "        \n",
    "            if Tau_k[to_stop_id] > Tau[k-1][from_stop_id]+walk_time:\n",
    "            \n",
    "                Tau_k[to_stop_id] = Tau[k-1][from_stop_id]+walk_time\n",
    "                Tau_star[to_stop_id] = min(Tau_k[to_stop_id], Tau_star[to_stop_id])\n",
    "            \n",
    "                mark.append(to_stop_id)\n",
    "            \n",
    "                parent_k[to_stop_id] = {\n",
    "                                        'stop_id': to_stop_id,\n",
    "                                        'trip_id':'walk',\n",
    "                                        'stop_lat':stop_lat,\n",
    "                                        'stop_lon':stop_lon,\n",
    "                                        'arrival_time':Tau_k[to_stop_id],\n",
    "                                        'departure_time': Tau_k[to_stop_id],\n",
    "                                        'parent_stop_id':to_stop_id,\n",
    "                                        'round':k\n",
    "                                       }\n",
    "            \n",
    "\n",
    "            \n",
    "        mark = list(set(mark))\n",
    "        \n",
    "        Tau.append(Tau_k)\n",
    "        Parent.append(parent_k)\n",
    "        \n",
    "    \n",
    "        \n",
    "    # recover the best route\n",
    "    best_route = []\n",
    "    if Tau_star[destination] == MAX_TIME:\n",
    "        print('no routes found')\n",
    "    \n",
    "    for k in range(1,K+1):\n",
    "        if Tau[k][destination] < MAX_TIME:\n",
    "            max_trans = k\n",
    "            \n",
    "            i = max_trans\n",
    "            d = destination\n",
    "            print(k)\n",
    "            while i > 0:\n",
    "                parent_i = Parent[i]\n",
    "                par = parent_i[d]\n",
    "                print(par)\n",
    "                best_route.append(par)\n",
    "                d = par['parent_stop_id']\n",
    "                i = i-1\n",
    "            break;\n",
    "            \n",
    "    return best_route\n",
    "    "
   ]
  },
  {
   "cell_type": "code",
   "execution_count": 1074,
   "metadata": {},
   "outputs": [
    {
     "name": "stdout",
     "output_type": "stream",
     "text": [
      "1\n",
      "25\n",
      "250\n",
      "473\n",
      "222\n",
      "4\n"
     ]
    },
    {
     "ename": "KeyError",
     "evalue": "'8503020:0:2'",
     "output_type": "error",
     "traceback": [
      "\u001b[0;31m---------------------------------------------------------------------------\u001b[0m",
      "\u001b[0;31mKeyError\u001b[0m                                  Traceback (most recent call last)",
      "\u001b[0;32m<ipython-input-1074-aab48a950234>\u001b[0m in \u001b[0;36m<module>\u001b[0;34m\u001b[0m\n\u001b[0;32m----> 1\u001b[0;31m \u001b[0mbest_route\u001b[0m \u001b[0;34m=\u001b[0m \u001b[0mgetBestRoutes\u001b[0m\u001b[0;34m(\u001b[0m\u001b[0mstops_ids\u001b[0m\u001b[0;34m[\u001b[0m\u001b[0;36m100\u001b[0m\u001b[0;34m]\u001b[0m\u001b[0;34m,\u001b[0m\u001b[0mstops_ids\u001b[0m\u001b[0;34m[\u001b[0m\u001b[0;36m1020\u001b[0m\u001b[0;34m]\u001b[0m\u001b[0;34m,\u001b[0m \u001b[0;36m35700\u001b[0m\u001b[0;34m,\u001b[0m\u001b[0;36m35700\u001b[0m\u001b[0;34m+\u001b[0m\u001b[0;36m10000\u001b[0m\u001b[0;34m,\u001b[0m\u001b[0;36m5\u001b[0m\u001b[0;34m)\u001b[0m\u001b[0;34m\u001b[0m\u001b[0;34m\u001b[0m\u001b[0m\n\u001b[0m",
      "\u001b[0;32m<ipython-input-1072-52e9eaa4bc8f>\u001b[0m in \u001b[0;36mgetBestRoutes\u001b[0;34m(source, destination, begin_time, time_limit, max_trans)\u001b[0m\n\u001b[1;32m    141\u001b[0m             \u001b[0;32mwhile\u001b[0m \u001b[0mi\u001b[0m \u001b[0;34m>\u001b[0m \u001b[0;36m0\u001b[0m\u001b[0;34m:\u001b[0m\u001b[0;34m\u001b[0m\u001b[0;34m\u001b[0m\u001b[0m\n\u001b[1;32m    142\u001b[0m                 \u001b[0mparent_i\u001b[0m \u001b[0;34m=\u001b[0m \u001b[0mParent\u001b[0m\u001b[0;34m[\u001b[0m\u001b[0mi\u001b[0m\u001b[0;34m]\u001b[0m\u001b[0;34m\u001b[0m\u001b[0;34m\u001b[0m\u001b[0m\n\u001b[0;32m--> 143\u001b[0;31m                 \u001b[0mpar\u001b[0m \u001b[0;34m=\u001b[0m \u001b[0mparent_i\u001b[0m\u001b[0;34m[\u001b[0m\u001b[0md\u001b[0m\u001b[0;34m]\u001b[0m\u001b[0;34m\u001b[0m\u001b[0;34m\u001b[0m\u001b[0m\n\u001b[0m\u001b[1;32m    144\u001b[0m                 \u001b[0mbest_route\u001b[0m\u001b[0;34m.\u001b[0m\u001b[0mappend\u001b[0m\u001b[0;34m(\u001b[0m\u001b[0mpar\u001b[0m\u001b[0;34m)\u001b[0m\u001b[0;34m\u001b[0m\u001b[0;34m\u001b[0m\u001b[0m\n\u001b[1;32m    145\u001b[0m                 \u001b[0md\u001b[0m \u001b[0;34m=\u001b[0m \u001b[0mpar\u001b[0m\u001b[0;34m[\u001b[0m\u001b[0;34m'parent_stop_id'\u001b[0m\u001b[0;34m]\u001b[0m\u001b[0;34m\u001b[0m\u001b[0;34m\u001b[0m\u001b[0m\n",
      "\u001b[0;31mKeyError\u001b[0m: '8503020:0:2'"
     ]
    }
   ],
   "source": [
    "best_route = getBestRoutes(stops_ids[100],stops_ids[1020], 35700,35700+10000,5)"
   ]
  },
  {
   "cell_type": "code",
   "execution_count": null,
   "metadata": {},
   "outputs": [],
   "source": []
  },
  {
   "cell_type": "code",
   "execution_count": 1063,
   "metadata": {},
   "outputs": [
    {
     "data": {
      "text/plain": [
       "[{'stop_id': '8591063',\n",
       "  'trip_id': '1577.TA.26-14-A-j19-1.24.R',\n",
       "  'stop_lat': 47.413336370854,\n",
       "  'stop_lon': 8.54584397892258,\n",
       "  'arrival_time': 37800,\n",
       "  'departure_time': 37800,\n",
       "  'parent_stop_id': '8502572',\n",
       "  'round': 2},\n",
       " {'stop_id': '8502572',\n",
       "  'trip_id': '503.TA.26-32-j19-1.4.R',\n",
       "  'stop_lat': 47.3702920484894,\n",
       "  'stop_lon': 8.51391785372053,\n",
       "  'arrival_time': 35880,\n",
       "  'departure_time': 35880,\n",
       "  'parent_stop_id': '8591195',\n",
       "  'round': 1}]"
      ]
     },
     "execution_count": 1063,
     "metadata": {},
     "output_type": "execute_result"
    }
   ],
   "source": [
    "best_route"
   ]
  },
  {
   "cell_type": "code",
   "execution_count": 984,
   "metadata": {},
   "outputs": [],
   "source": [
    "[1,2,3].reverse()"
   ]
  },
  {
   "cell_type": "code",
   "execution_count": 962,
   "metadata": {},
   "outputs": [],
   "source": [
    "a = reversed([1,2,3])"
   ]
  },
  {
   "cell_type": "code",
   "execution_count": 963,
   "metadata": {},
   "outputs": [
    {
     "data": {
      "text/plain": [
       "<list_reverseiterator at 0x7f97b9035750>"
      ]
     },
     "execution_count": 963,
     "metadata": {},
     "output_type": "execute_result"
    }
   ],
   "source": [
    "a"
   ]
  },
  {
   "cell_type": "code",
   "execution_count": null,
   "metadata": {},
   "outputs": [],
   "source": []
  }
 ],
 "metadata": {
  "kernelspec": {
   "display_name": "Python 3",
   "language": "python",
   "name": "python3"
  },
  "language_info": {
   "codemirror_mode": {
    "name": "ipython",
    "version": 3
   },
   "file_extension": ".py",
   "mimetype": "text/x-python",
   "name": "python",
   "nbconvert_exporter": "python",
   "pygments_lexer": "ipython3",
   "version": "3.7.6"
  }
 },
 "nbformat": 4,
 "nbformat_minor": 4
}
